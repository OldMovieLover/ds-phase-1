{
 "cells": [
  {
   "cell_type": "markdown",
   "metadata": {},
   "source": [
    "### Метрики классификации.\n"
   ]
  },
  {
   "cell_type": "code",
   "execution_count": 41,
   "metadata": {
    "_cell_guid": "b1076dfc-b9ad-4769-8c92-a6c4dae69d19",
    "_uuid": "8f2839f25d086af736a60e9eeb907d3b93b6e0e5",
    "tags": []
   },
   "outputs": [],
   "source": [
    "import numpy as np\n",
    "import pandas as pd\n",
    "import matplotlib.pyplot as plt\n",
    "\n",
    "import sklearn\n",
    "sklearn.set_config(transform_output=\"pandas\")\n",
    "from sklearn.model_selection import StratifiedKFold, cross_val_score, train_test_split\n",
    "from sklearn.linear_model import LogisticRegression \n",
    "from sklearn.preprocessing import StandardScaler\n",
    "\n",
    "import optuna"
   ]
  },
  {
   "cell_type": "code",
   "execution_count": 2,
   "metadata": {
    "tags": []
   },
   "outputs": [],
   "source": [
    "data = pd.read_csv(\"aux/microsoft_malware_detection.csv\")"
   ]
  },
  {
   "cell_type": "code",
   "execution_count": 107,
   "metadata": {},
   "outputs": [
    {
     "data": {
      "text/html": [
       "<div>\n",
       "<style scoped>\n",
       "    .dataframe tbody tr th:only-of-type {\n",
       "        vertical-align: middle;\n",
       "    }\n",
       "\n",
       "    .dataframe tbody tr th {\n",
       "        vertical-align: top;\n",
       "    }\n",
       "\n",
       "    .dataframe thead th {\n",
       "        text-align: right;\n",
       "    }\n",
       "</style>\n",
       "<table border=\"1\" class=\"dataframe\">\n",
       "  <thead>\n",
       "    <tr style=\"text-align: right;\">\n",
       "      <th></th>\n",
       "      <th>EngineVersion</th>\n",
       "      <th>AppVersion</th>\n",
       "      <th>AvSigVersion</th>\n",
       "      <th>RtpStateBitfield</th>\n",
       "      <th>IsSxsPassiveMode</th>\n",
       "      <th>AVProductStatesIdentifier</th>\n",
       "      <th>AVProductsInstalled</th>\n",
       "      <th>AVProductsEnabled</th>\n",
       "      <th>HasTpm</th>\n",
       "      <th>CountryIdentifier</th>\n",
       "      <th>...</th>\n",
       "      <th>Platform_windows8</th>\n",
       "      <th>Processor_x64</th>\n",
       "      <th>Processor_x86</th>\n",
       "      <th>Census_DeviceFamily_Windows.Server</th>\n",
       "      <th>Census_OSArchitecture_arm64</th>\n",
       "      <th>Census_OSArchitecture_x86</th>\n",
       "      <th>Census_GenuineStateName_IS_GENUINE</th>\n",
       "      <th>Census_GenuineStateName_OFFLINE</th>\n",
       "      <th>Census_GenuineStateName_UNKNOWN</th>\n",
       "      <th>HasDetections</th>\n",
       "    </tr>\n",
       "  </thead>\n",
       "  <tbody>\n",
       "    <tr>\n",
       "      <th>0</th>\n",
       "      <td>0.552153</td>\n",
       "      <td>0.530941</td>\n",
       "      <td>0.587952</td>\n",
       "      <td>7.0</td>\n",
       "      <td>0</td>\n",
       "      <td>53447.0</td>\n",
       "      <td>1.0</td>\n",
       "      <td>1.0</td>\n",
       "      <td>1</td>\n",
       "      <td>29</td>\n",
       "      <td>...</td>\n",
       "      <td>0</td>\n",
       "      <td>1</td>\n",
       "      <td>0</td>\n",
       "      <td>0</td>\n",
       "      <td>0</td>\n",
       "      <td>0</td>\n",
       "      <td>1</td>\n",
       "      <td>0</td>\n",
       "      <td>0</td>\n",
       "      <td>0</td>\n",
       "    </tr>\n",
       "    <tr>\n",
       "      <th>1</th>\n",
       "      <td>0.448751</td>\n",
       "      <td>0.528931</td>\n",
       "      <td>0.484434</td>\n",
       "      <td>7.0</td>\n",
       "      <td>0</td>\n",
       "      <td>53447.0</td>\n",
       "      <td>1.0</td>\n",
       "      <td>1.0</td>\n",
       "      <td>1</td>\n",
       "      <td>93</td>\n",
       "      <td>...</td>\n",
       "      <td>0</td>\n",
       "      <td>1</td>\n",
       "      <td>0</td>\n",
       "      <td>0</td>\n",
       "      <td>0</td>\n",
       "      <td>0</td>\n",
       "      <td>0</td>\n",
       "      <td>1</td>\n",
       "      <td>0</td>\n",
       "      <td>0</td>\n",
       "    </tr>\n",
       "    <tr>\n",
       "      <th>2</th>\n",
       "      <td>0.552153</td>\n",
       "      <td>0.530941</td>\n",
       "      <td>0.557522</td>\n",
       "      <td>7.0</td>\n",
       "      <td>0</td>\n",
       "      <td>53447.0</td>\n",
       "      <td>1.0</td>\n",
       "      <td>1.0</td>\n",
       "      <td>1</td>\n",
       "      <td>86</td>\n",
       "      <td>...</td>\n",
       "      <td>0</td>\n",
       "      <td>1</td>\n",
       "      <td>0</td>\n",
       "      <td>0</td>\n",
       "      <td>0</td>\n",
       "      <td>0</td>\n",
       "      <td>1</td>\n",
       "      <td>0</td>\n",
       "      <td>0</td>\n",
       "      <td>0</td>\n",
       "    </tr>\n",
       "    <tr>\n",
       "      <th>3</th>\n",
       "      <td>0.552153</td>\n",
       "      <td>0.530941</td>\n",
       "      <td>0.482759</td>\n",
       "      <td>7.0</td>\n",
       "      <td>0</td>\n",
       "      <td>53447.0</td>\n",
       "      <td>1.0</td>\n",
       "      <td>1.0</td>\n",
       "      <td>1</td>\n",
       "      <td>97</td>\n",
       "      <td>...</td>\n",
       "      <td>0</td>\n",
       "      <td>1</td>\n",
       "      <td>0</td>\n",
       "      <td>0</td>\n",
       "      <td>0</td>\n",
       "      <td>0</td>\n",
       "      <td>1</td>\n",
       "      <td>0</td>\n",
       "      <td>0</td>\n",
       "      <td>0</td>\n",
       "    </tr>\n",
       "    <tr>\n",
       "      <th>4</th>\n",
       "      <td>0.493175</td>\n",
       "      <td>0.530941</td>\n",
       "      <td>0.505721</td>\n",
       "      <td>7.0</td>\n",
       "      <td>0</td>\n",
       "      <td>53447.0</td>\n",
       "      <td>1.0</td>\n",
       "      <td>1.0</td>\n",
       "      <td>1</td>\n",
       "      <td>164</td>\n",
       "      <td>...</td>\n",
       "      <td>0</td>\n",
       "      <td>1</td>\n",
       "      <td>0</td>\n",
       "      <td>0</td>\n",
       "      <td>0</td>\n",
       "      <td>0</td>\n",
       "      <td>1</td>\n",
       "      <td>0</td>\n",
       "      <td>0</td>\n",
       "      <td>0</td>\n",
       "    </tr>\n",
       "  </tbody>\n",
       "</table>\n",
       "<p>5 rows × 79 columns</p>\n",
       "</div>"
      ],
      "text/plain": [
       "   EngineVersion  AppVersion  AvSigVersion  RtpStateBitfield  \\\n",
       "0       0.552153    0.530941      0.587952               7.0   \n",
       "1       0.448751    0.528931      0.484434               7.0   \n",
       "2       0.552153    0.530941      0.557522               7.0   \n",
       "3       0.552153    0.530941      0.482759               7.0   \n",
       "4       0.493175    0.530941      0.505721               7.0   \n",
       "\n",
       "   IsSxsPassiveMode  AVProductStatesIdentifier  AVProductsInstalled  \\\n",
       "0                 0                    53447.0                  1.0   \n",
       "1                 0                    53447.0                  1.0   \n",
       "2                 0                    53447.0                  1.0   \n",
       "3                 0                    53447.0                  1.0   \n",
       "4                 0                    53447.0                  1.0   \n",
       "\n",
       "   AVProductsEnabled  HasTpm  CountryIdentifier  ...  Platform_windows8  \\\n",
       "0                1.0       1                 29  ...                  0   \n",
       "1                1.0       1                 93  ...                  0   \n",
       "2                1.0       1                 86  ...                  0   \n",
       "3                1.0       1                 97  ...                  0   \n",
       "4                1.0       1                164  ...                  0   \n",
       "\n",
       "   Processor_x64  Processor_x86  Census_DeviceFamily_Windows.Server  \\\n",
       "0              1              0                                   0   \n",
       "1              1              0                                   0   \n",
       "2              1              0                                   0   \n",
       "3              1              0                                   0   \n",
       "4              1              0                                   0   \n",
       "\n",
       "   Census_OSArchitecture_arm64  Census_OSArchitecture_x86  \\\n",
       "0                            0                          0   \n",
       "1                            0                          0   \n",
       "2                            0                          0   \n",
       "3                            0                          0   \n",
       "4                            0                          0   \n",
       "\n",
       "   Census_GenuineStateName_IS_GENUINE  Census_GenuineStateName_OFFLINE  \\\n",
       "0                                   1                                0   \n",
       "1                                   0                                1   \n",
       "2                                   1                                0   \n",
       "3                                   1                                0   \n",
       "4                                   1                                0   \n",
       "\n",
       "   Census_GenuineStateName_UNKNOWN  HasDetections  \n",
       "0                                0              0  \n",
       "1                                0              0  \n",
       "2                                0              0  \n",
       "3                                0              0  \n",
       "4                                0              0  \n",
       "\n",
       "[5 rows x 79 columns]"
      ]
     },
     "execution_count": 107,
     "metadata": {},
     "output_type": "execute_result"
    }
   ],
   "source": [
    "data.head()"
   ]
  },
  {
   "cell_type": "markdown",
   "metadata": {},
   "source": [
    "Перед вами пердобработанный датасет от Microsoft. столбец  `HasDetections` - ваш таргет. Который отражает по имеющимся данным, данная программа является вирусом или нет. Датасет имеет дисбаланс классов. Хороша ли метрика `accuracy`?"
   ]
  },
  {
   "cell_type": "markdown",
   "metadata": {},
   "source": [
    "Нет, метрика accuracy будет ужасным показателем. Если весь таргет подставить как 0, то получим точность 83.31, т.к. имеется явный дисбаланс классов(83.31 против 16.69)"
   ]
  },
  {
   "cell_type": "markdown",
   "metadata": {},
   "source": [
    "1. Проверьте пропорцию классов"
   ]
  },
  {
   "cell_type": "code",
   "execution_count": 9,
   "metadata": {
    "tags": []
   },
   "outputs": [
    {
     "data": {
      "text/plain": [
       "HasDetections\n",
       "0    83.31666\n",
       "1    16.68334\n",
       "Name: proportion, dtype: float64"
      ]
     },
     "execution_count": 9,
     "metadata": {},
     "output_type": "execute_result"
    }
   ],
   "source": [
    "data['HasDetections'].value_counts(normalize=True) * 100"
   ]
  },
  {
   "cell_type": "markdown",
   "metadata": {},
   "source": [
    "2. Сделайте scaling данных"
   ]
  },
  {
   "cell_type": "code",
   "execution_count": 38,
   "metadata": {},
   "outputs": [
    {
     "data": {
      "text/html": [
       "<div>\n",
       "<style scoped>\n",
       "    .dataframe tbody tr th:only-of-type {\n",
       "        vertical-align: middle;\n",
       "    }\n",
       "\n",
       "    .dataframe tbody tr th {\n",
       "        vertical-align: top;\n",
       "    }\n",
       "\n",
       "    .dataframe thead th {\n",
       "        text-align: right;\n",
       "    }\n",
       "</style>\n",
       "<table border=\"1\" class=\"dataframe\">\n",
       "  <thead>\n",
       "    <tr style=\"text-align: right;\">\n",
       "      <th></th>\n",
       "      <th>EngineVersion</th>\n",
       "      <th>AppVersion</th>\n",
       "      <th>AvSigVersion</th>\n",
       "      <th>RtpStateBitfield</th>\n",
       "      <th>IsSxsPassiveMode</th>\n",
       "      <th>AVProductStatesIdentifier</th>\n",
       "      <th>AVProductsInstalled</th>\n",
       "      <th>AVProductsEnabled</th>\n",
       "      <th>HasTpm</th>\n",
       "      <th>CountryIdentifier</th>\n",
       "      <th>...</th>\n",
       "      <th>Platform_windows7</th>\n",
       "      <th>Platform_windows8</th>\n",
       "      <th>Processor_x64</th>\n",
       "      <th>Processor_x86</th>\n",
       "      <th>Census_DeviceFamily_Windows.Server</th>\n",
       "      <th>Census_OSArchitecture_arm64</th>\n",
       "      <th>Census_OSArchitecture_x86</th>\n",
       "      <th>Census_GenuineStateName_IS_GENUINE</th>\n",
       "      <th>Census_GenuineStateName_OFFLINE</th>\n",
       "      <th>Census_GenuineStateName_UNKNOWN</th>\n",
       "    </tr>\n",
       "  </thead>\n",
       "  <tbody>\n",
       "    <tr>\n",
       "      <th>80926</th>\n",
       "      <td>0.845075</td>\n",
       "      <td>0.591666</td>\n",
       "      <td>0.588516</td>\n",
       "      <td>0.163286</td>\n",
       "      <td>-0.143190</td>\n",
       "      <td>0.438940</td>\n",
       "      <td>-0.683220</td>\n",
       "      <td>-0.140065</td>\n",
       "      <td>0.113431</td>\n",
       "      <td>-0.236007</td>\n",
       "      <td>...</td>\n",
       "      <td>-0.104368</td>\n",
       "      <td>-0.147637</td>\n",
       "      <td>0.341151</td>\n",
       "      <td>-0.340903</td>\n",
       "      <td>-0.043831</td>\n",
       "      <td>-0.01164</td>\n",
       "      <td>-0.340408</td>\n",
       "      <td>0.360117</td>\n",
       "      <td>-0.159476</td>\n",
       "      <td>-0.047607</td>\n",
       "    </tr>\n",
       "    <tr>\n",
       "      <th>44468</th>\n",
       "      <td>-0.025911</td>\n",
       "      <td>0.591666</td>\n",
       "      <td>0.427237</td>\n",
       "      <td>0.163286</td>\n",
       "      <td>-0.143190</td>\n",
       "      <td>-2.557605</td>\n",
       "      <td>1.134477</td>\n",
       "      <td>-0.140065</td>\n",
       "      <td>0.113431</td>\n",
       "      <td>-0.840186</td>\n",
       "      <td>...</td>\n",
       "      <td>-0.104368</td>\n",
       "      <td>-0.147637</td>\n",
       "      <td>-2.931256</td>\n",
       "      <td>2.933384</td>\n",
       "      <td>-0.043831</td>\n",
       "      <td>-0.01164</td>\n",
       "      <td>2.937653</td>\n",
       "      <td>0.360117</td>\n",
       "      <td>-0.159476</td>\n",
       "      <td>-0.047607</td>\n",
       "    </tr>\n",
       "    <tr>\n",
       "      <th>25069</th>\n",
       "      <td>-0.117091</td>\n",
       "      <td>-1.287718</td>\n",
       "      <td>-0.581949</td>\n",
       "      <td>0.163286</td>\n",
       "      <td>-0.143190</td>\n",
       "      <td>0.438940</td>\n",
       "      <td>-0.683220</td>\n",
       "      <td>-0.140065</td>\n",
       "      <td>0.113431</td>\n",
       "      <td>-1.189974</td>\n",
       "      <td>...</td>\n",
       "      <td>-0.104368</td>\n",
       "      <td>-0.147637</td>\n",
       "      <td>0.341151</td>\n",
       "      <td>-0.340903</td>\n",
       "      <td>-0.043831</td>\n",
       "      <td>-0.01164</td>\n",
       "      <td>-0.340408</td>\n",
       "      <td>0.360117</td>\n",
       "      <td>-0.159476</td>\n",
       "      <td>-0.047607</td>\n",
       "    </tr>\n",
       "    <tr>\n",
       "      <th>25283</th>\n",
       "      <td>0.845075</td>\n",
       "      <td>-0.618309</td>\n",
       "      <td>0.266752</td>\n",
       "      <td>0.163286</td>\n",
       "      <td>-0.143190</td>\n",
       "      <td>0.438940</td>\n",
       "      <td>-0.683220</td>\n",
       "      <td>-0.140065</td>\n",
       "      <td>0.113431</td>\n",
       "      <td>0.527167</td>\n",
       "      <td>...</td>\n",
       "      <td>-0.104368</td>\n",
       "      <td>-0.147637</td>\n",
       "      <td>-2.931256</td>\n",
       "      <td>2.933384</td>\n",
       "      <td>-0.043831</td>\n",
       "      <td>-0.01164</td>\n",
       "      <td>2.937653</td>\n",
       "      <td>0.360117</td>\n",
       "      <td>-0.159476</td>\n",
       "      <td>-0.047607</td>\n",
       "    </tr>\n",
       "    <tr>\n",
       "      <th>110050</th>\n",
       "      <td>-0.025911</td>\n",
       "      <td>0.591666</td>\n",
       "      <td>-0.693041</td>\n",
       "      <td>0.163286</td>\n",
       "      <td>-0.143190</td>\n",
       "      <td>-0.024286</td>\n",
       "      <td>1.134477</td>\n",
       "      <td>-0.140065</td>\n",
       "      <td>0.113431</td>\n",
       "      <td>-0.633493</td>\n",
       "      <td>...</td>\n",
       "      <td>-0.104368</td>\n",
       "      <td>-0.147637</td>\n",
       "      <td>0.341151</td>\n",
       "      <td>-0.340903</td>\n",
       "      <td>-0.043831</td>\n",
       "      <td>-0.01164</td>\n",
       "      <td>-0.340408</td>\n",
       "      <td>0.360117</td>\n",
       "      <td>-0.159476</td>\n",
       "      <td>-0.047607</td>\n",
       "    </tr>\n",
       "    <tr>\n",
       "      <th>...</th>\n",
       "      <td>...</td>\n",
       "      <td>...</td>\n",
       "      <td>...</td>\n",
       "      <td>...</td>\n",
       "      <td>...</td>\n",
       "      <td>...</td>\n",
       "      <td>...</td>\n",
       "      <td>...</td>\n",
       "      <td>...</td>\n",
       "      <td>...</td>\n",
       "      <td>...</td>\n",
       "      <td>...</td>\n",
       "      <td>...</td>\n",
       "      <td>...</td>\n",
       "      <td>...</td>\n",
       "      <td>...</td>\n",
       "      <td>...</td>\n",
       "      <td>...</td>\n",
       "      <td>...</td>\n",
       "      <td>...</td>\n",
       "      <td>...</td>\n",
       "    </tr>\n",
       "    <tr>\n",
       "      <th>56272</th>\n",
       "      <td>-0.025911</td>\n",
       "      <td>-3.046895</td>\n",
       "      <td>-0.595124</td>\n",
       "      <td>0.163286</td>\n",
       "      <td>-0.143190</td>\n",
       "      <td>0.438940</td>\n",
       "      <td>-0.683220</td>\n",
       "      <td>-0.140065</td>\n",
       "      <td>0.113431</td>\n",
       "      <td>-0.760688</td>\n",
       "      <td>...</td>\n",
       "      <td>-0.104368</td>\n",
       "      <td>-0.147637</td>\n",
       "      <td>-2.931256</td>\n",
       "      <td>2.933384</td>\n",
       "      <td>-0.043831</td>\n",
       "      <td>-0.01164</td>\n",
       "      <td>2.937653</td>\n",
       "      <td>0.360117</td>\n",
       "      <td>-0.159476</td>\n",
       "      <td>-0.047607</td>\n",
       "    </tr>\n",
       "    <tr>\n",
       "      <th>3094</th>\n",
       "      <td>-1.595151</td>\n",
       "      <td>-1.238145</td>\n",
       "      <td>-4.218052</td>\n",
       "      <td>0.163286</td>\n",
       "      <td>-0.143190</td>\n",
       "      <td>-0.681784</td>\n",
       "      <td>1.134477</td>\n",
       "      <td>-0.140065</td>\n",
       "      <td>0.113431</td>\n",
       "      <td>1.687826</td>\n",
       "      <td>...</td>\n",
       "      <td>-0.104368</td>\n",
       "      <td>-0.147637</td>\n",
       "      <td>0.341151</td>\n",
       "      <td>-0.340903</td>\n",
       "      <td>-0.043831</td>\n",
       "      <td>-0.01164</td>\n",
       "      <td>-0.340408</td>\n",
       "      <td>0.360117</td>\n",
       "      <td>-0.159476</td>\n",
       "      <td>-0.047607</td>\n",
       "    </tr>\n",
       "    <tr>\n",
       "      <th>83660</th>\n",
       "      <td>-0.856110</td>\n",
       "      <td>0.914803</td>\n",
       "      <td>-0.307398</td>\n",
       "      <td>0.163286</td>\n",
       "      <td>-0.143190</td>\n",
       "      <td>0.438940</td>\n",
       "      <td>-0.683220</td>\n",
       "      <td>-0.140065</td>\n",
       "      <td>0.113431</td>\n",
       "      <td>1.131346</td>\n",
       "      <td>...</td>\n",
       "      <td>-0.104368</td>\n",
       "      <td>-0.147637</td>\n",
       "      <td>0.341151</td>\n",
       "      <td>-0.340903</td>\n",
       "      <td>-0.043831</td>\n",
       "      <td>-0.01164</td>\n",
       "      <td>-0.340408</td>\n",
       "      <td>-2.776879</td>\n",
       "      <td>6.270546</td>\n",
       "      <td>-0.047607</td>\n",
       "    </tr>\n",
       "    <tr>\n",
       "      <th>19413</th>\n",
       "      <td>-0.025911</td>\n",
       "      <td>0.591666</td>\n",
       "      <td>0.327076</td>\n",
       "      <td>-6.260738</td>\n",
       "      <td>6.983717</td>\n",
       "      <td>0.490439</td>\n",
       "      <td>1.134477</td>\n",
       "      <td>-0.140065</td>\n",
       "      <td>0.113431</td>\n",
       "      <td>-1.253571</td>\n",
       "      <td>...</td>\n",
       "      <td>-0.104368</td>\n",
       "      <td>-0.147637</td>\n",
       "      <td>0.341151</td>\n",
       "      <td>-0.340903</td>\n",
       "      <td>-0.043831</td>\n",
       "      <td>-0.01164</td>\n",
       "      <td>-0.340408</td>\n",
       "      <td>0.360117</td>\n",
       "      <td>-0.159476</td>\n",
       "      <td>-0.047607</td>\n",
       "    </tr>\n",
       "    <tr>\n",
       "      <th>51729</th>\n",
       "      <td>-0.117091</td>\n",
       "      <td>0.591666</td>\n",
       "      <td>-0.650861</td>\n",
       "      <td>0.163286</td>\n",
       "      <td>-0.143190</td>\n",
       "      <td>0.438940</td>\n",
       "      <td>-0.683220</td>\n",
       "      <td>-0.140065</td>\n",
       "      <td>0.113431</td>\n",
       "      <td>-0.013414</td>\n",
       "      <td>...</td>\n",
       "      <td>-0.104368</td>\n",
       "      <td>-0.147637</td>\n",
       "      <td>0.341151</td>\n",
       "      <td>-0.340903</td>\n",
       "      <td>-0.043831</td>\n",
       "      <td>-0.01164</td>\n",
       "      <td>-0.340408</td>\n",
       "      <td>0.360117</td>\n",
       "      <td>-0.159476</td>\n",
       "      <td>-0.047607</td>\n",
       "    </tr>\n",
       "  </tbody>\n",
       "</table>\n",
       "<p>23991 rows × 78 columns</p>\n",
       "</div>"
      ],
      "text/plain": [
       "        EngineVersion  AppVersion  AvSigVersion  RtpStateBitfield  \\\n",
       "80926        0.845075    0.591666      0.588516          0.163286   \n",
       "44468       -0.025911    0.591666      0.427237          0.163286   \n",
       "25069       -0.117091   -1.287718     -0.581949          0.163286   \n",
       "25283        0.845075   -0.618309      0.266752          0.163286   \n",
       "110050      -0.025911    0.591666     -0.693041          0.163286   \n",
       "...               ...         ...           ...               ...   \n",
       "56272       -0.025911   -3.046895     -0.595124          0.163286   \n",
       "3094        -1.595151   -1.238145     -4.218052          0.163286   \n",
       "83660       -0.856110    0.914803     -0.307398          0.163286   \n",
       "19413       -0.025911    0.591666      0.327076         -6.260738   \n",
       "51729       -0.117091    0.591666     -0.650861          0.163286   \n",
       "\n",
       "        IsSxsPassiveMode  AVProductStatesIdentifier  AVProductsInstalled  \\\n",
       "80926          -0.143190                   0.438940            -0.683220   \n",
       "44468          -0.143190                  -2.557605             1.134477   \n",
       "25069          -0.143190                   0.438940            -0.683220   \n",
       "25283          -0.143190                   0.438940            -0.683220   \n",
       "110050         -0.143190                  -0.024286             1.134477   \n",
       "...                  ...                        ...                  ...   \n",
       "56272          -0.143190                   0.438940            -0.683220   \n",
       "3094           -0.143190                  -0.681784             1.134477   \n",
       "83660          -0.143190                   0.438940            -0.683220   \n",
       "19413           6.983717                   0.490439             1.134477   \n",
       "51729          -0.143190                   0.438940            -0.683220   \n",
       "\n",
       "        AVProductsEnabled    HasTpm  CountryIdentifier  ...  \\\n",
       "80926           -0.140065  0.113431          -0.236007  ...   \n",
       "44468           -0.140065  0.113431          -0.840186  ...   \n",
       "25069           -0.140065  0.113431          -1.189974  ...   \n",
       "25283           -0.140065  0.113431           0.527167  ...   \n",
       "110050          -0.140065  0.113431          -0.633493  ...   \n",
       "...                   ...       ...                ...  ...   \n",
       "56272           -0.140065  0.113431          -0.760688  ...   \n",
       "3094            -0.140065  0.113431           1.687826  ...   \n",
       "83660           -0.140065  0.113431           1.131346  ...   \n",
       "19413           -0.140065  0.113431          -1.253571  ...   \n",
       "51729           -0.140065  0.113431          -0.013414  ...   \n",
       "\n",
       "        Platform_windows7  Platform_windows8  Processor_x64  Processor_x86  \\\n",
       "80926           -0.104368          -0.147637       0.341151      -0.340903   \n",
       "44468           -0.104368          -0.147637      -2.931256       2.933384   \n",
       "25069           -0.104368          -0.147637       0.341151      -0.340903   \n",
       "25283           -0.104368          -0.147637      -2.931256       2.933384   \n",
       "110050          -0.104368          -0.147637       0.341151      -0.340903   \n",
       "...                   ...                ...            ...            ...   \n",
       "56272           -0.104368          -0.147637      -2.931256       2.933384   \n",
       "3094            -0.104368          -0.147637       0.341151      -0.340903   \n",
       "83660           -0.104368          -0.147637       0.341151      -0.340903   \n",
       "19413           -0.104368          -0.147637       0.341151      -0.340903   \n",
       "51729           -0.104368          -0.147637       0.341151      -0.340903   \n",
       "\n",
       "        Census_DeviceFamily_Windows.Server  Census_OSArchitecture_arm64  \\\n",
       "80926                            -0.043831                     -0.01164   \n",
       "44468                            -0.043831                     -0.01164   \n",
       "25069                            -0.043831                     -0.01164   \n",
       "25283                            -0.043831                     -0.01164   \n",
       "110050                           -0.043831                     -0.01164   \n",
       "...                                    ...                          ...   \n",
       "56272                            -0.043831                     -0.01164   \n",
       "3094                             -0.043831                     -0.01164   \n",
       "83660                            -0.043831                     -0.01164   \n",
       "19413                            -0.043831                     -0.01164   \n",
       "51729                            -0.043831                     -0.01164   \n",
       "\n",
       "        Census_OSArchitecture_x86  Census_GenuineStateName_IS_GENUINE  \\\n",
       "80926                   -0.340408                            0.360117   \n",
       "44468                    2.937653                            0.360117   \n",
       "25069                   -0.340408                            0.360117   \n",
       "25283                    2.937653                            0.360117   \n",
       "110050                  -0.340408                            0.360117   \n",
       "...                           ...                                 ...   \n",
       "56272                    2.937653                            0.360117   \n",
       "3094                    -0.340408                            0.360117   \n",
       "83660                   -0.340408                           -2.776879   \n",
       "19413                   -0.340408                            0.360117   \n",
       "51729                   -0.340408                            0.360117   \n",
       "\n",
       "        Census_GenuineStateName_OFFLINE  Census_GenuineStateName_UNKNOWN  \n",
       "80926                         -0.159476                        -0.047607  \n",
       "44468                         -0.159476                        -0.047607  \n",
       "25069                         -0.159476                        -0.047607  \n",
       "25283                         -0.159476                        -0.047607  \n",
       "110050                        -0.159476                        -0.047607  \n",
       "...                                 ...                              ...  \n",
       "56272                         -0.159476                        -0.047607  \n",
       "3094                          -0.159476                        -0.047607  \n",
       "83660                          6.270546                        -0.047607  \n",
       "19413                         -0.159476                        -0.047607  \n",
       "51729                         -0.159476                        -0.047607  \n",
       "\n",
       "[23991 rows x 78 columns]"
      ]
     },
     "execution_count": 38,
     "metadata": {},
     "output_type": "execute_result"
    }
   ],
   "source": [
    "X, y = data.drop('HasDetections', axis=1), data['HasDetections']\n",
    "\n",
    "X_train, X_test, y_train, y_test = train_test_split(X, y, test_size=0.2, random_state=42)\n",
    "ss = StandardScaler()\n",
    "\n",
    "X_train_scaled = ss.fit_transform(X_train)\n",
    "X_test_scaled = ss.transform(X_test)\n",
    "\n",
    "X_test_scaled"
   ]
  },
  {
   "cell_type": "markdown",
   "metadata": {},
   "source": [
    "Произведем процедуру отложенной выборки:"
   ]
  },
  {
   "cell_type": "markdown",
   "metadata": {},
   "source": [
    "3. Создайте разделение на тренировочную и валидационную выборку, постройте модель Логистической регрессии, попробуйте настроить коэффициент регуляризации(С) с помощью `optuna`"
   ]
  },
  {
   "cell_type": "markdown",
   "metadata": {},
   "source": [
    "Best C: 0.0002442993468348441\n",
    "Best cross-validated accuracy: 0.8331499274017391\n",
    "Best C: 469.53380613748385\n",
    "Best cross-validated accuracy: 0.8331499274017391\n",
    "array([[24726,   293],\n",
    "       [ 4442,   527]])"
   ]
  },
  {
   "cell_type": "code",
   "execution_count": 48,
   "metadata": {},
   "outputs": [
    {
     "name": "stderr",
     "output_type": "stream",
     "text": [
      "[I 2024-10-30 15:23:51,282] A new study created in memory with name: no-name-13f825a0-a25f-4a5b-be4c-4b07f3f66e27\n",
      "[I 2024-10-30 15:23:58,919] Trial 2 finished with value: 0.36465730629506016 and parameters: {'C': 0.00014001384077141058}. Best is trial 2 with value: 0.36465730629506016.\n",
      "[I 2024-10-30 15:24:01,867] Trial 1 finished with value: 0.3670548657066948 and parameters: {'C': 0.0006173079141088531}. Best is trial 1 with value: 0.3670548657066948.\n",
      "[I 2024-10-30 15:24:11,301] Trial 3 finished with value: 0.3673188778719217 and parameters: {'C': 0.001846758467451146}. Best is trial 3 with value: 0.3673188778719217.\n",
      "[I 2024-10-30 15:24:16,029] Trial 4 finished with value: 0.36771020474254357 and parameters: {'C': 0.003376754909220459}. Best is trial 4 with value: 0.36771020474254357.\n",
      "[I 2024-10-30 15:24:23,332] Trial 5 finished with value: 0.3672600760921558 and parameters: {'C': 0.0016540430080944982}. Best is trial 4 with value: 0.36771020474254357.\n",
      "[I 2024-10-30 15:24:46,741] Trial 0 finished with value: 0.3675176727508554 and parameters: {'C': 13.39047040431094}. Best is trial 4 with value: 0.36771020474254357.\n",
      "[I 2024-10-30 15:25:01,092] Trial 8 finished with value: 0.3677069332998856 and parameters: {'C': 0.00391896787665663}. Best is trial 4 with value: 0.36771020474254357.\n",
      "[I 2024-10-30 15:25:02,265] Trial 7 finished with value: 0.3675340987643764 and parameters: {'C': 0.7157344267808784}. Best is trial 4 with value: 0.36771020474254357.\n",
      "[I 2024-10-30 15:25:06,914] Trial 10 finished with value: 0.3533285165391008 and parameters: {'C': 1.4582546521369368e-05}. Best is trial 4 with value: 0.36771020474254357.\n",
      "[I 2024-10-30 15:25:08,022] Trial 9 finished with value: 0.3630376275625463 and parameters: {'C': 8.62796100098356e-05}. Best is trial 4 with value: 0.36771020474254357.\n",
      "[I 2024-10-30 15:25:10,689] Trial 6 finished with value: 0.3675176727508554 and parameters: {'C': 71.38038789567729}. Best is trial 4 with value: 0.36771020474254357.\n",
      "[I 2024-10-30 15:25:11,359] Trial 11 finished with value: 0.35694502996412114 and parameters: {'C': 2.5927770204832042e-05}. Best is trial 4 with value: 0.36771020474254357.\n",
      "[I 2024-10-30 15:25:35,523] Trial 13 finished with value: 0.36764755137066973 and parameters: {'C': 0.04011450925266697}. Best is trial 4 with value: 0.36771020474254357.\n",
      "[I 2024-10-30 15:25:37,603] Trial 14 finished with value: 0.3676712322958561 and parameters: {'C': 0.05324278990043122}. Best is trial 4 with value: 0.36771020474254357.\n",
      "[I 2024-10-30 15:25:43,329] Trial 12 finished with value: 0.36751711002563103 and parameters: {'C': 0.16788924552709902}. Best is trial 4 with value: 0.36771020474254357.\n",
      "[I 2024-10-30 15:25:54,035] Trial 16 finished with value: 0.3679241920664463 and parameters: {'C': 0.005768785991595511}. Best is trial 16 with value: 0.3679241920664463.\n",
      "[I 2024-10-30 15:25:57,657] Trial 17 finished with value: 0.36767693717920136 and parameters: {'C': 0.003844178899206253}. Best is trial 16 with value: 0.3679241920664463.\n",
      "[I 2024-10-30 15:25:59,435] Trial 15 finished with value: 0.36763292307264284 and parameters: {'C': 0.029204173479660454}. Best is trial 16 with value: 0.3679241920664463.\n",
      "[I 2024-10-30 15:26:32,490] Trial 18 finished with value: 0.3675275601448832 and parameters: {'C': 0.6991794905847989}. Best is trial 16 with value: 0.3679241920664463.\n",
      "[I 2024-10-30 15:26:36,745] Trial 19 finished with value: 0.3675407997432051 and parameters: {'C': 1.1064182997180008}. Best is trial 16 with value: 0.3679241920664463.\n",
      "[I 2024-10-30 15:26:38,473] Trial 20 finished with value: 0.36754738859119296 and parameters: {'C': 1.1673207499176266}. Best is trial 16 with value: 0.3679241920664463.\n",
      "[I 2024-10-30 15:26:53,594] Trial 21 finished with value: 0.36761994215143085 and parameters: {'C': 0.009740523886924759}. Best is trial 16 with value: 0.3679241920664463.\n",
      "[I 2024-10-30 15:26:58,026] Trial 23 finished with value: 0.3678195112260511 and parameters: {'C': 0.007623552382631878}. Best is trial 16 with value: 0.3679241920664463.\n",
      "[I 2024-10-30 15:26:58,734] Trial 22 finished with value: 0.36745923242160955 and parameters: {'C': 0.011462197761934015}. Best is trial 16 with value: 0.3679241920664463.\n",
      "[I 2024-10-30 15:27:02,955] Trial 24 finished with value: 0.36639973884525145 and parameters: {'C': 0.0004614019988192825}. Best is trial 16 with value: 0.3679241920664463.\n",
      "[I 2024-10-30 15:27:07,165] Trial 25 finished with value: 0.36670284511613266 and parameters: {'C': 0.0004207559321752541}. Best is trial 16 with value: 0.3679241920664463.\n",
      "[I 2024-10-30 15:27:08,477] Trial 26 finished with value: 0.36701766196556596 and parameters: {'C': 0.0006457420552923176}. Best is trial 16 with value: 0.3679241920664463.\n",
      "[I 2024-10-30 15:27:29,254] Trial 28 finished with value: 0.3674107743130739 and parameters: {'C': 0.012177242544218701}. Best is trial 16 with value: 0.3679241920664463.\n",
      "[I 2024-10-30 15:27:35,664] Trial 27 finished with value: 0.3675039382424357 and parameters: {'C': 0.14105343364580078}. Best is trial 16 with value: 0.3679241920664463.\n",
      "[I 2024-10-30 15:27:37,920] Trial 29 finished with value: 0.3675171525778217 and parameters: {'C': 0.12735159863113077}. Best is trial 16 with value: 0.3679241920664463.\n"
     ]
    },
    {
     "name": "stdout",
     "output_type": "stream",
     "text": [
      "Best F1 Score: 0.3679241920664463\n",
      "Best C: 0.005768785991595511\n"
     ]
    }
   ],
   "source": [
    "def objective(trial):\n",
    "    C = trial.suggest_float('C', 1e-5, 100, log=True)\n",
    "    model = LogisticRegression(C=C, class_weight='balanced' ,solver='liblinear', random_state=42)\n",
    "    \n",
    "    scores = cross_val_score(model,X_train_scaled, y_train, cv=5, scoring='f1')\n",
    "    return scores.mean()\n",
    "\n",
    "\n",
    "study = optuna.create_study(direction='maximize')\n",
    "study.optimize(objective, n_trials=30, n_jobs=3)\n",
    "\n",
    "\n",
    "best_trial = study.best_trial\n",
    "print(\"Best F1 Score:\", best_trial.value)\n",
    "print(\"Best C:\", best_trial.params['C'])"
   ]
  },
  {
   "cell_type": "markdown",
   "metadata": {},
   "source": [
    "4.  Постройте __confusion matrix__ на тестовой выборки. Отобразите ее в виде DataFrame\n",
    "\n",
    "|          | y_real = 1  | y_real = 0  |\n",
    "|----------|------------|------------|\n",
    "|  y_pred = 1  |     TP     |     FP     |\n",
    "|  y_pred = 0  |     FN     |     TN     |  \n",
    "\n",
    "Напоминаю:\n",
    "\n",
    "* Positive/Negative отражает то, к какому классу определила объект наша модель, в нашем случае нулевой класс соответствует Negative (нет вируса), а единичный класс - Positive (есть вирус).\n",
    "\n",
    "* True/False просто показывает совпало ли предсказание модели с реальным классом объекта, поэтому на главной диагонали стоят True, а на побочной False."
   ]
  },
  {
   "cell_type": "code",
   "execution_count": 52,
   "metadata": {},
   "outputs": [],
   "source": [
    "lr = LogisticRegression(C=0.006, class_weight='balanced', solver='liblinear', random_state=42)"
   ]
  },
  {
   "cell_type": "code",
   "execution_count": 92,
   "metadata": {},
   "outputs": [
    {
     "name": "stdout",
     "output_type": "stream",
     "text": [
      "            y_real = 1  y_real = 0\n",
      "y_pred = 1       10326       29441\n",
      "y_pred = 0        5712       50482\n"
     ]
    }
   ],
   "source": [
    "### Your code is here\n",
    "lr.fit(X_train_scaled, y_train)\n",
    "\n",
    "y_pred = lr.predict(X_train_scaled)\n",
    "\n",
    "TP = 0\n",
    "TN = 0\n",
    "FP = 0\n",
    "FN = 0\n",
    "\n",
    "for true, pred in zip(y_train, y_pred):\n",
    "    if true == 1 and pred == 1:\n",
    "        TP += 1\n",
    "    elif true == 0 and pred == 0:\n",
    "        TN += 1\n",
    "    elif true == 0 and pred == 1:\n",
    "        FP += 1\n",
    "    elif true == 1 and pred == 0:\n",
    "        FN += 1\n",
    "\n",
    "confus_matrix = np.array([[TP, FP], \n",
    "                             [FN, TN]])\n",
    "\n",
    "confusion_df = pd.DataFrame(confus_matrix, index=['y_pred = 1', 'y_pred = 0'], columns=['y_real = 1', 'y_real = 0'])\n",
    "print(confusion_df)\n"
   ]
  },
  {
   "cell_type": "markdown",
   "metadata": {},
   "source": [
    "5. Сравните результат с методом `confusion_matrix` в `sklearn.metrics`. Обратите внимание на тот факт, что в sklearn матрица транспонирована относительно нашей"
   ]
  },
  {
   "cell_type": "code",
   "execution_count": 61,
   "metadata": {
    "tags": []
   },
   "outputs": [
    {
     "data": {
      "text/html": [
       "<div>\n",
       "<style scoped>\n",
       "    .dataframe tbody tr th:only-of-type {\n",
       "        vertical-align: middle;\n",
       "    }\n",
       "\n",
       "    .dataframe tbody tr th {\n",
       "        vertical-align: top;\n",
       "    }\n",
       "\n",
       "    .dataframe thead th {\n",
       "        text-align: right;\n",
       "    }\n",
       "</style>\n",
       "<table border=\"1\" class=\"dataframe\">\n",
       "  <thead>\n",
       "    <tr style=\"text-align: right;\">\n",
       "      <th></th>\n",
       "      <th>0</th>\n",
       "      <th>1</th>\n",
       "    </tr>\n",
       "  </thead>\n",
       "  <tbody>\n",
       "    <tr>\n",
       "      <th>0</th>\n",
       "      <td>50482</td>\n",
       "      <td>29441</td>\n",
       "    </tr>\n",
       "    <tr>\n",
       "      <th>1</th>\n",
       "      <td>5712</td>\n",
       "      <td>10326</td>\n",
       "    </tr>\n",
       "  </tbody>\n",
       "</table>\n",
       "</div>"
      ],
      "text/plain": [
       "       0      1\n",
       "0  50482  29441\n",
       "1   5712  10326"
      ]
     },
     "execution_count": 61,
     "metadata": {},
     "output_type": "execute_result"
    }
   ],
   "source": [
    "from sklearn.metrics import confusion_matrix\n",
    "\n",
    "pd.DataFrame(confusion_matrix(y_train, y_pred))"
   ]
  },
  {
   "cell_type": "markdown",
   "metadata": {},
   "source": [
    "6. Посчитайте `accuracy`, `precision`, `recall`"
   ]
  },
  {
   "cell_type": "code",
   "execution_count": 117,
   "metadata": {
    "execution": {
     "iopub.execute_input": "2022-04-18T20:21:39.346296Z",
     "iopub.status.busy": "2022-04-18T20:21:39.345406Z",
     "iopub.status.idle": "2022-04-18T20:21:39.353142Z",
     "shell.execute_reply": "2022-04-18T20:21:39.352372Z",
     "shell.execute_reply.started": "2022-04-18T20:21:39.346248Z"
    }
   },
   "outputs": [
    {
     "name": "stdout",
     "output_type": "stream",
     "text": [
      "0.6336740967684789 0.2596625342620766 0.6438458660680882\n"
     ]
    }
   ],
   "source": [
    "### Your code is here\n",
    "acc = (TP + TN) / (TP + FP + FN + TN) \n",
    "precision = TP / (TP + FP)\n",
    "recall = TP / (TP + FN)\n",
    "print(acc, precision, recall)"
   ]
  },
  {
   "cell_type": "code",
   "execution_count": 115,
   "metadata": {
    "execution": {
     "iopub.execute_input": "2022-04-18T20:22:01.870920Z",
     "iopub.status.busy": "2022-04-18T20:22:01.870590Z",
     "iopub.status.idle": "2022-04-18T20:22:01.896558Z",
     "shell.execute_reply": "2022-04-18T20:22:01.895618Z",
     "shell.execute_reply.started": "2022-04-18T20:22:01.870886Z"
    }
   },
   "outputs": [
    {
     "name": "stdout",
     "output_type": "stream",
     "text": [
      "0.6438458660680882 0.2596625342620766\n"
     ]
    }
   ],
   "source": [
    "from sklearn.metrics import recall_score, precision_score\n",
    "\n",
    "### Your code is here\n",
    "print(recall_score(y_train, y_pred), precision_score(y_train, y_pred))"
   ]
  },
  {
   "cell_type": "markdown",
   "metadata": {},
   "source": [
    "7. Какая метрика более точно описывает происходящее? Хороший ли результат мы получили"
   ]
  },
  {
   "cell_type": "code",
   "execution_count": 118,
   "metadata": {
    "execution": {
     "iopub.execute_input": "2022-04-18T20:22:18.856848Z",
     "iopub.status.busy": "2022-04-18T20:22:18.856503Z",
     "iopub.status.idle": "2022-04-18T20:22:18.869936Z",
     "shell.execute_reply": "2022-04-18T20:22:18.869195Z",
     "shell.execute_reply.started": "2022-04-18T20:22:18.856814Z"
    }
   },
   "outputs": [
    {
     "name": "stdout",
     "output_type": "stream",
     "text": [
      "Наша точность определения вируса: 26.0 %\n",
      "Но процент нахождения вируса 64.4 % \n",
      "Точность (accuracy) вводит в заблуждение 63.4 % \n",
      "А вот f1-score показывает настоящее значение точности нашей модели 0.37\n",
      "Надо сделать помарку, что f1-score в диапазоне 0-0.5 (модель слабая) \n",
      "А если меньше нуля, то вообще все плохо. \n",
      "По факту модель не справляется т.к. 0.5 все еще больше. \n",
      "В случае когда классы имеют явный дисбаланс, то лучше использовать f1-score\n",
      "В данном случае можно использовать recall, т.к нам важен процент обнаружения вируса\n"
     ]
    }
   ],
   "source": [
    "from sklearn.metrics import f1_score\n",
    "\n",
    "### Your code is here\n",
    "print(f\"\"\"Наша точность определения вируса: {round(precision, 3) * 100} %\n",
    "Но процент нахождения вируса {round(recall, 3) * 100} % \n",
    "Точность (accuracy) вводит в заблуждение {round(acc, 3) * 100} % \n",
    "А вот f1-score показывает настоящее значение точности нашей модели {round(f1_score(y_train, y_pred), 2)}\n",
    "Надо сделать помарку, что f1-score в диапазоне 0-0.5 (модель слабая) \n",
    "А если меньше нуля, то вообще все плохо. \n",
    "По факту модель не справляется т.к. 0.5 все еще больше. \n",
    "В случае когда классы имеют явный дисбаланс, то лучше использовать f1-score\n",
    "В данном случае можно использовать recall, т.к нам важен процент обнаружения вируса\"\"\")"
   ]
  },
  {
   "cell_type": "markdown",
   "metadata": {},
   "source": [
    "8. Допустим, руководитель требует, чтобы наш классификатор в 60% случаев правильно предсказывал наличие вируса на компьютере, чтобы не беспокоить клиентов из-за ложноположительных результатов. \\\n",
    "Как решить эту задачу? =>\n",
    "Надо подобрать порог, который максимизирует `recall` при условии, что `precision > 0.6`.\n",
    "\n",
    "$$\n",
    "(recall | precision > 0.6) \\to \\max_{thres}\n",
    "$$"
   ]
  },
  {
   "cell_type": "markdown",
   "metadata": {},
   "source": [
    "Для этого возможно построить так называемую `precision_recall_curve`, которая поможет нам посмотреть при разных трешхолдах соотношения этих двух метрик и вырать оптимальное"
   ]
  },
  {
   "cell_type": "code",
   "execution_count": 119,
   "metadata": {
    "execution": {
     "iopub.execute_input": "2022-04-18T21:30:53.998031Z",
     "iopub.status.busy": "2022-04-18T21:30:53.997709Z",
     "iopub.status.idle": "2022-04-18T21:30:54.007307Z",
     "shell.execute_reply": "2022-04-18T21:30:54.005784Z",
     "shell.execute_reply.started": "2022-04-18T21:30:53.997997Z"
    }
   },
   "outputs": [
    {
     "name": "stdout",
     "output_type": "stream",
     "text": [
      "Precison:\t 0.6016355140186916\n",
      "Recall: \t 0.1295923502767992\n",
      "Threshold:\t 0.8042747169595535\n"
     ]
    }
   ],
   "source": [
    "from sklearn.metrics import precision_recall_curve\n",
    "\n",
    "### Строим всевозможные комбинации precision, recall, threshold\n",
    "y_scores = lr.predict_proba(X_test_scaled)[:, 1]\n",
    "\n",
    "precision, recall, thres = precision_recall_curve(y_test, y_scores)\n",
    "\n",
    "### Находим такую тройку, при которой recall максимален, а precision > 0.6\n",
    "\n",
    "ind = np.where(recall == recall[precision > 0.6].max())\n",
    "\n",
    "print(f\"Precison:\\t {precision[ind][-1]}\")\n",
    "print(f\"Recall: \\t {recall[ind][-1]}\")\n",
    "print(f\"Threshold:\\t {thres[ind][-1]}\")"
   ]
  },
  {
   "cell_type": "markdown",
   "metadata": {},
   "source": [
    "Теперь чтобы соответствовать установленным условиям, мы будем замерять вероятности для объектов и сравнивать и с найденным `Threshold`, который решает нашу задачу"
   ]
  },
  {
   "cell_type": "markdown",
   "metadata": {},
   "source": [
    "9. На примере того, что сделано  решите задачу, где заказчик требует, чтобы наш классификатор находил хотя бы 20% компьютеров с вирусом, среди всех действительно зараженных компьютеров.\n",
    "$$\n",
    "(precision | recall > 0.2) \\to \\max_{thres}\n",
    "$$"
   ]
  },
  {
   "cell_type": "code",
   "execution_count": 120,
   "metadata": {
    "execution": {
     "iopub.execute_input": "2022-04-18T21:31:02.333007Z",
     "iopub.status.busy": "2022-04-18T21:31:02.331845Z",
     "iopub.status.idle": "2022-04-18T21:31:02.341309Z",
     "shell.execute_reply": "2022-04-18T21:31:02.340237Z",
     "shell.execute_reply.started": "2022-04-18T21:31:02.332952Z"
    }
   },
   "outputs": [
    {
     "name": "stdout",
     "output_type": "stream",
     "text": [
      "Precison:\t 0.49843847595252966\n",
      "Recall: \t 0.2008052340211374\n",
      "Threshold:\t 0.7088451608108038\n"
     ]
    }
   ],
   "source": [
    "### Your code is here\n",
    "\n",
    "precision, recall, thres = precision_recall_curve(y_test, y_scores)\n",
    "\n",
    "ind = np.where(precision == precision[recall > 0.2].max())\n",
    "\n",
    "print(f\"Precison:\\t {precision[ind][-1]}\")\n",
    "print(f\"Recall: \\t {recall[ind][-1]}\")\n",
    "print(f\"Threshold:\\t {thres[ind][-1]}\")"
   ]
  },
  {
   "cell_type": "markdown",
   "metadata": {},
   "source": [
    "10. Одним из самых распространенных показателей качества является **F-мера**, которая обобщает все вышерассмотренные метрики. Более того, в ней можно регулировать параметр $\\beta^2$, который отвечает за предпочтение между precision и recall. \n",
    "$$\n",
    "F = \\dfrac{(1 + \\beta^2) P \\cdot R}{\\beta^2 P + R}\n",
    "$$\n",
    "* При $\\beta^2 = 1$ и precision, и recall нам важны в равной степени.\n",
    "* При $\\beta^2 > 1$ предпочтение отдается recall. Похоже на решение задачи, где мы фиксируем приемлемое для нас значение precision и максимизируем recall.\n",
    "* При $0 < \\beta^2 < 1$ предпочтение отдается precision. Похоже на решение задачи, где мы фиксируем приемлемое для нас значение recall и максимизируем precision.\n",
    "\n",
    "Найдите порог, который максимизирует:\n",
    "1) F-меру с $\\beta^2 = 1$,\n",
    "2) F-меру с $\\beta^2 = 0.05$,\n",
    "3) F-меру с $\\beta^2 = 4$.\\\n",
    "Для всех трех случаев выведите precision, recall, threshold и F-меру. \n",
    "Нарисуйте линии уровня и точку, которая максимизирует F-меру по аналогии с предыдущим пунктом."
   ]
  },
  {
   "cell_type": "code",
   "execution_count": 128,
   "metadata": {},
   "outputs": [],
   "source": [
    "beta = 1\n",
    "f_score = ((1 + beta) * precision * recall) / beta *(precision + recall)\n",
    "\n",
    "f_score_index = np.argmax(f_score)\n",
    "f_score_max = f_score[f_score_index]"
   ]
  },
  {
   "cell_type": "code",
   "execution_count": 130,
   "metadata": {},
   "outputs": [
    {
     "data": {
      "image/png": "[encoded data removed]",
      "text/plain": [
       "<Figure size 1000x600 with 1 Axes>"
      ]
     },
     "metadata": {},
     "output_type": "display_data"
    }
   ],
   "source": [
    "plt.figure(figsize=(10, 6))\n",
    "plt.plot(recall, precision, label=\"Precision-Recall Curve\", color='blue')\n",
    "plt.scatter(recall[f_score_index], precision[f_score_index], color='red', label=f\"Max F-score: {f_score_max:.2f}\\nPrecision: {precision[f_score_index]:.2f}, Recall: {recall[f_score_index]:.2f}, Threshold: {thres[f_score_index]:.2f}\")\n",
    "plt.xlabel(\"Recall\")\n",
    "plt.ylabel(\"Precision\")\n",
    "plt.title(\"Precision-Recall Curve with Max F1 Score\")\n",
    "plt.legend()\n",
    "plt.grid(True)\n",
    "plt.show()"
   ]
  },
  {
   "cell_type": "code",
   "execution_count": 135,
   "metadata": {
    "execution": {
     "iopub.execute_input": "2022-04-18T21:35:08.199747Z",
     "iopub.status.busy": "2022-04-18T21:35:08.199283Z",
     "iopub.status.idle": "2022-04-18T21:35:08.483726Z",
     "shell.execute_reply": "2022-04-18T21:35:08.482715Z",
     "shell.execute_reply.started": "2022-04-18T21:35:08.199696Z"
    }
   },
   "outputs": [],
   "source": [
    "beta = 0.05\n",
    "f_score = ((1 + beta) * precision * recall) / beta *(precision + recall)\n",
    "\n",
    "f_score_index = np.argmax(f_score)\n",
    "f_score_max = f_score[f_score_index]"
   ]
  },
  {
   "cell_type": "code",
   "execution_count": 139,
   "metadata": {},
   "outputs": [
    {
     "data": {
      "image/png": "[encoded data removed]",
      "text/plain": [
       "<Figure size 1000x600 with 1 Axes>"
      ]
     },
     "metadata": {},
     "output_type": "display_data"
    }
   ],
   "source": [
    "plt.figure(figsize=(10, 6))\n",
    "plt.plot(recall, precision, label=\"Precision-Recall Curve\", color='blue')\n",
    "plt.scatter(recall[f_score_index], precision[f_score_index], color='red', label=f\"Max F-score: {f_score_max:.2f}\\nPrecision: {precision[f_score_index]:.2f}, Recall: {recall[f_score_index]:.2f}, Threshold: {thres[f_score_index]:.2f}\")\n",
    "plt.xlabel(\"Recall\")\n",
    "plt.ylabel(\"Precision\")\n",
    "plt.title(\"Precision-Recall Curve with Max F1 Score\")\n",
    "plt.legend()\n",
    "plt.grid(True)\n",
    "plt.show()"
   ]
  },
  {
   "cell_type": "code",
   "execution_count": null,
   "metadata": {
    "execution": {
     "iopub.execute_input": "2022-04-18T21:37:11.185314Z",
     "iopub.status.busy": "2022-04-18T21:37:11.184196Z",
     "iopub.status.idle": "2022-04-18T21:37:11.456684Z",
     "shell.execute_reply": "2022-04-18T21:37:11.455149Z",
     "shell.execute_reply.started": "2022-04-18T21:37:11.185205Z"
    }
   },
   "outputs": [],
   "source": [
    "beta = 4\n",
    "f_score = ((1 + beta) * precision * recall) / beta *(precision + recall)\n",
    "\n",
    "f_score_index = np.argmax(f_score)\n",
    "f_score_max = f_score[f_score_index]"
   ]
  },
  {
   "cell_type": "code",
   "execution_count": 137,
   "metadata": {
    "execution": {
     "iopub.execute_input": "2022-04-18T21:37:22.505899Z",
     "iopub.status.busy": "2022-04-18T21:37:22.505490Z",
     "iopub.status.idle": "2022-04-18T21:37:22.779164Z",
     "shell.execute_reply": "2022-04-18T21:37:22.778007Z",
     "shell.execute_reply.started": "2022-04-18T21:37:22.505867Z"
    }
   },
   "outputs": [
    {
     "data": {
      "image/png": "[encoded data removed]",
      "text/plain": [
       "<Figure size 1000x600 with 1 Axes>"
      ]
     },
     "metadata": {},
     "output_type": "display_data"
    }
   ],
   "source": [
    "plt.figure(figsize=(10, 6))\n",
    "plt.plot(recall, precision, label=\"Precision-Recall Curve\", color='blue')\n",
    "plt.scatter(recall[f_score_index], precision[f_score_index], color='red', label=f\"Max F-score: {f_score_max:.2f}\\nPrecision: {precision[f_score_index]:.2f}, Recall: {recall[f_score_index]:.2f}, Threshold: {thres[f_score_index]:.2f}\")\n",
    "plt.xlabel(\"Recall\")\n",
    "plt.ylabel(\"Precision\")\n",
    "plt.title(\"Precision-Recall Curve with Max F1 Score\")\n",
    "plt.legend()\n",
    "plt.grid(True)\n",
    "plt.show()"
   ]
  },
  {
   "cell_type": "markdown",
   "metadata": {},
   "source": [
    "11. Постройте roc-auc.  \n",
    "Пример описан снизу"
   ]
  },
  {
   "cell_type": "code",
   "execution_count": 149,
   "metadata": {},
   "outputs": [
    {
     "data": {
      "image/png": "[encoded data removed]",
      "text/plain": [
       "<Figure size 640x480 with 1 Axes>"
      ]
     },
     "metadata": {},
     "output_type": "display_data"
    }
   ],
   "source": [
    "from sklearn.metrics import roc_curve, roc_auc_score\n",
    "\n",
    "x = np.linspace(0, 1, 100)\n",
    "roc_auc = np.round(roc_auc_score(y_test, y_scores), 3)\n",
    "\n",
    "fpr, tpr, thresholds = roc_curve(y_test, y_scores)\n",
    "\n",
    "# # И нарисуем ROC-кривую\n",
    "\n",
    "from sklearn.metrics import RocCurveDisplay\n",
    "\n",
    "RocCurveDisplay(fpr=fpr, tpr=tpr).plot(label=f'ROC_AUC = {roc_auc}')\n",
    "plt.plot(x, x, linestyle='--')\n",
    "plt.grid()\n",
    "plt.legend()\n",
    "plt.show()\n"
   ]
  }
 ],
 "metadata": {
  "kernelspec": {
   "display_name": "base",
   "language": "python",
   "name": "python3"
  },
  "language_info": {
   "codemirror_mode": {
    "name": "ipython",
    "version": 3
   },
   "file_extension": ".py",
   "mimetype": "text/x-python",
   "name": "python",
   "nbconvert_exporter": "python",
   "pygments_lexer": "ipython3",
   "version": "3.12.5"
  },
  "vscode": {
   "interpreter": {
    "hash": "34cd1f02a1c82374b0d515644597fa68fe031e4077c6ea0c9ceb203f5836fddb"
   }
  }
 },
 "nbformat": 4,
 "nbformat_minor": 4
}
